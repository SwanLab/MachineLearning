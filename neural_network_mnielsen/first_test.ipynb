{
 "metadata": {
  "language_info": {
   "codemirror_mode": {
    "name": "ipython",
    "version": 3
   },
   "file_extension": ".py",
   "mimetype": "text/x-python",
   "name": "python",
   "nbconvert_exporter": "python",
   "pygments_lexer": "ipython3",
   "version": "3.6.9-final"
  },
  "orig_nbformat": 2,
  "kernelspec": {
   "name": "python3",
   "display_name": "Python 3.6.9 64-bit",
   "metadata": {
    "interpreter": {
     "hash": "31f2aee4e71d21fbe5cf8b01ff0e069b9275f58929596ceb00d14d90e3e16cd6"
    }
   }
  }
 },
 "nbformat": 4,
 "nbformat_minor": 2,
 "cells": [
  {
   "cell_type": "code",
   "execution_count": 1,
   "metadata": {},
   "outputs": [],
   "source": [
    "import mnist_loader\n",
    "training_data, validation_data, test_data = mnist_loader.load_data_wrapper()\n",
    "training_data = list(training_data)\n",
    "\n"
   ]
  },
  {
   "cell_type": "code",
   "execution_count": 2,
   "metadata": {},
   "outputs": [],
   "source": [
    "import math\n",
    "image = training_data[100][0]\n",
    "height = int(math.sqrt(len(image)))\n",
    "width = height"
   ]
  },
  {
   "cell_type": "code",
   "execution_count": 6,
   "metadata": {},
   "outputs": [
    {
     "output_type": "display_data",
     "data": {
      "text/plain": "<Figure size 432x288 with 1 Axes>",
      "image/svg+xml": "<?xml version=\"1.0\" encoding=\"utf-8\" standalone=\"no\"?>\n<!DOCTYPE svg PUBLIC \"-//W3C//DTD SVG 1.1//EN\"\n  \"http://www.w3.org/Graphics/SVG/1.1/DTD/svg11.dtd\">\n<!-- Created with matplotlib (https://matplotlib.org/) -->\n<svg height=\"231.84pt\" version=\"1.1\" viewBox=\"0 0 231.84 231.84\" width=\"231.84pt\" xmlns=\"http://www.w3.org/2000/svg\" xmlns:xlink=\"http://www.w3.org/1999/xlink\">\n <metadata>\n  <rdf:RDF xmlns:cc=\"http://creativecommons.org/ns#\" xmlns:dc=\"http://purl.org/dc/elements/1.1/\" xmlns:rdf=\"http://www.w3.org/1999/02/22-rdf-syntax-ns#\">\n   <cc:Work>\n    <dc:type rdf:resource=\"http://purl.org/dc/dcmitype/StillImage\"/>\n    <dc:date>2020-11-17T20:46:42.557550</dc:date>\n    <dc:format>image/svg+xml</dc:format>\n    <dc:creator>\n     <cc:Agent>\n      <dc:title>Matplotlib v3.3.3, https://matplotlib.org/</dc:title>\n     </cc:Agent>\n    </dc:creator>\n   </cc:Work>\n  </rdf:RDF>\n </metadata>\n <defs>\n  <style type=\"text/css\">*{stroke-linecap:butt;stroke-linejoin:round;}</style>\n </defs>\n <g id=\"figure_1\">\n  <g id=\"patch_1\">\n   <path d=\"M 0 231.84 \nL 231.84 231.84 \nL 231.84 0 \nL 0 0 \nz\n\" style=\"fill:none;\"/>\n  </g>\n  <g id=\"axes_1\">\n   <g clip-path=\"url(#p3979085d3d)\">\n    <image height=\"218\" id=\"image6214eb9152\" transform=\"scale(1 -1)translate(0 -218)\" width=\"218\" x=\"7.2\" xlink:href=\"data:image/png;base64,\niVBORw0KGgoAAAANSUhEUgAAANoAAADaCAYAAADAHVzbAAAE3UlEQVR4nO3dP0uVfRzH8evc3eQSiCBBfxad2loShNZajYaIegSBDULgYGNPocUn0KCI0BMINxsMgtMUtYYZ0clNjtgDuLu+cl91Pv45r9f64afX8uYH58Jjr2maowYYqX9O+gFgHAgNAoQGAUKDAKFBgNAgQGgQIDQIEBoECA0ChAYBQoMAoUGA0CBAaBDw70k/AHkLCwut2+bmZnn20aNH5b62ttbpmc47NxoECA0ChAYBQoMAoUGA0CDAx/tjaG5urvPZ58+fl/vGxka5Hx4edv7dZ5kbDQKEBgFCgwChQYDQIEBoECA0COg1/m3T2Lly5Urr9vbt2/LstWvXyn1iYqLch8NhuZ9XbjQIEBoECA0ChAYBQoMAoUGA0CDA36ONoS9fvrRu+/v7wScZH240CBAaBAgNAoQGAUKDAKFBgNAgwHu0MfTkyZPWbWZmJvgk48ONBgFCgwChQYDQIEBoECA0CBAaBHiPdg5V39vYNE3z7Nmz1u2472V8//59uR8d+ZrQ33GjQYDQIEBoECA0CBAaBAgNAny8PyK9Xq91qz5eb5qm6ff75X7r1q1yf/DgQbnPzs6We+XNmzflfnh42Plnn2duNAgQGgQIDQKEBgFCgwChQYDQIMB7tBFZX19v3e7fvx98kv9na2ur3F+/fh16kvPFjQYBQoMAoUGA0CBAaBAgNAgQGgR4jzYic3Nznc9+/fq13L9//975ZzdN07x69ap1e/nyZXl2MBj80e8eV240CBAaBAgNAoQGAUKDAKFBgNAgwHu0jqanp8v94sWLrdtwOCzP3r59u9w/f/5c7pw+bjQIEBoECA0ChAYBQoMAoUGAj/c7unv3brlfvny5dTs4OCjP+vj+/HGjQYDQIEBoECA0CBAaBAgNAoQGAUKDAKFBgNAgQGgQIDQIEBoECA0ChAYBQoMAoUGA0CBAaBAgNAgQGgQIDQKEBgG+1/EEXLhwodzn5+fLfXt7+28+DgFuNAgQGgQIDQKEBgFCgwChQYDQIMB7tI7u3LnT+exx79GO+99r3qOdPW40CBAaBAgNAoQGAUKDAKFBQK9pmqOTfoiz6N27d+V+8+bNzj97d3e33K9evdr5Z3My3GgQIDQIEBoECA0ChAYBQoMAoUGAP5PpaGdnp9xv3LjRuk1MTJRnp6amyv3p06fl/uHDh3Lf29tr3fr9fnmWbtxoECA0CBAaBAgNAoQGAUKDAKFBgL9HG5EXL160bisrK8En+a8fP360bh8/fizPLi0tlbuvwvs9NxoECA0ChAYBQoMAoUGA0CBAaBDgPdqITE5Otm737t0rzx73b5seP37c6Zn+hsFgUO7fvn0r958/f7ZuDx8+LM9++vSp3E8zNxoECA0ChAYBQoMAoUGA0CBAaBDgPdop1Ov1yv247328fv16uf/Je7jFxcVyv3TpUrlX79GWl5fLs6urq+V+mrnRIEBoECA0CBAaBAgNAoQGAT7ehwA3GgQIDQKEBgFCgwChQYDQIEBoECA0CBAaBAgNAoQGAUKDAKFBgNAgQGgQIDQIEBoECA0ChAYBQoMAoUGA0CBAaBAgNAgQGgQIDQKEBgFCgwChQYDQIEBoECA0CBAaBAgNAoQGAUKDAKFBgNAgQGgQIDQIEBoECA0ChAYBQoMAoUGA0CDgF1qOk3UcqYwuAAAAAElFTkSuQmCC\" y=\"-6.64\"/>\n   </g>\n  </g>\n </g>\n <defs>\n  <clipPath id=\"p3979085d3d\">\n   <rect height=\"217.44\" width=\"217.44\" x=\"7.2\" y=\"7.2\"/>\n  </clipPath>\n </defs>\n</svg>\n",
      "image/png": "[encoded data removed]"
     },
     "metadata": {
      "needs_background": "light"
     }
    },
    {
     "output_type": "stream",
     "name": "stdout",
     "text": [
      "[1, 2, 3, 4]\n[2, 4, 6, 8]\n1 2\n2 4\n3 6\n4 8\n"
     ]
    }
   ],
   "source": [
    "import matplotlib.pyplot as plt\n",
    "import matplotlib.image as mpimg\n",
    "plt.show()\n",
    "plt.figure()\n",
    "plt.axis('off')\n",
    "plt.imshow(image.reshape(height,width),cmap='gray', vmin=0, vmax=1)\n",
    "plt.show()\n",
    "\n",
    "vector_a = [i for i in range(1,5)]\n",
    "vector_b = [2*i for i in range(1,5)]\n",
    "\n",
    "print(vector_a)\n",
    "print(vector_b)\n",
    "for a, b in zip(vector_a, vector_b):\n",
    "    print(a, b)\n",
    "\n"
   ]
  },
  {
   "cell_type": "code",
   "execution_count": 4,
   "metadata": {},
   "outputs": [
    {
     "output_type": "stream",
     "name": "stdout",
     "text": [
      "Epoch 0 : 8956 / 10000\n",
      "Epoch 1 : 9193 / 10000\n"
     ]
    }
   ],
   "source": [
    "import network\n",
    "net = network.Network([784, 30, 10])\n",
    "net.SGD(training_data, 2, 10, 3.0, test_data=test_data)"
   ]
  },
  {
   "cell_type": "code",
   "execution_count": null,
   "metadata": {},
   "outputs": [],
   "source": []
  }
 ]
}